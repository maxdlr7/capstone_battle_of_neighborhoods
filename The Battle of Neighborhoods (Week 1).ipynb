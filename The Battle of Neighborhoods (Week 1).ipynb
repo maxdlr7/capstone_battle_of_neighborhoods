{
    "nbformat_minor": 2, 
    "cells": [
        {
            "source": "# Applied data science Capstone\n\n### Capstone Project - The Battle of Neighborhoods (Week 1)", 
            "cell_type": "markdown", 
            "metadata": {}
        }, 
        {
            "source": "## 1. Introduction\n\n**The quality of coffee in Guatemala is recognized worldwide, many communities in the country are responsible for producing coffee by hand and then it is sold to large companies that are responsible for processing and subsequent distribution to all parts of the world.\nFrom this situation an idea is born to support all these small producers and that they can take their product as a community abroad without having to work with another individual, by doing this they can earn much more money than by selling it to large companies .**\n\nTherefore, this project is an idea of how small producers will be able to find their market through an analysis of large cities, such as Toronto Canada, to investigate the coffee market in the city and if it is possible to introduce their product into the market, to so that through international initiatives they can take their product to places where they can have greater impact and thus improve the country's economy.", 
            "cell_type": "markdown", 
            "metadata": {}
        }, 
        {
            "source": "## 2. Description of the data\n\n**For this project we will use the information from the Forsqueare API to explore the information of the city of Toronto, with this we can analyze the availability of coffee shops and the option of whether it is an option to open new coffee shops since the demand for coffee in the city is high.**\n\n\nWe will also use the data that wikipedia provides about each neighborhood of both cities which can be accessed from: https://en.wikipedia.org/wiki/List_of_postal_codes_of_Canada:_M.\n\n\nIt's necessary to know the most important food markets of the city that we are going to analyze, in this case Toronto Canada.\nKnowing the information of the city we will be able to determine the feasibility of coffee businesses and with this to be able to present to the producers who use this tool the feasibility of exporting their product to these cities, the high demand for coffee for coffee shops or restaurants.", 
            "cell_type": "markdown", 
            "metadata": {}
        }, 
        {
            "execution_count": null, 
            "cell_type": "code", 
            "metadata": {}, 
            "outputs": [], 
            "source": ""
        }
    ], 
    "metadata": {
        "kernelspec": {
            "display_name": "Python 3.6", 
            "name": "python3", 
            "language": "python"
        }, 
        "language_info": {
            "mimetype": "text/x-python", 
            "nbconvert_exporter": "python", 
            "version": "3.6.8", 
            "name": "python", 
            "file_extension": ".py", 
            "pygments_lexer": "ipython3", 
            "codemirror_mode": {
                "version": 3, 
                "name": "ipython"
            }
        }
    }, 
    "nbformat": 4
}